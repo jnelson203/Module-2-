{
 "cells": [
  {
   "cell_type": "code",
   "execution_count": null,
   "id": "0765a01e-6a2d-4436-9af9-081d296b23eb",
   "metadata": {},
   "outputs": [],
   "source": [
    "secret = 7  # Secret number (choose between 1 and 10)\n",
    "guess = 5   # Guess number (choose between 1 and 10)\n",
    "\n",
    "if guess < secret:\n",
    "    print(\"too low\")\n",
    "elif guess > secret:\n",
    "    print(\"too high\")\n",
    "else:\n",
    "    print(\"just right\")\n"
   ]
  },
  {
   "cell_type": "code",
   "execution_count": null,
   "id": "93d78520-d7c6-4920-9ae3-00be43678b35",
   "metadata": {},
   "outputs": [],
   "source": [
    "small = True   # True if the object is small, False otherwise\n",
    "green = False  # True if the object is green, False otherwise\n",
    "\n",
    "if small and green:\n",
    "    print(\"pea\")\n",
    "elif small and not green:\n",
    "    print(\"cherry\")\n",
    "elif not small and green:\n",
    "    print(\"watermelon\")\n",
    "else:\n",
    "    print(\"pumpkin\")\n"
   ]
  },
  {
   "cell_type": "code",
   "execution_count": null,
   "id": "1d4f9519-5e55-4aaf-bb96-cb5221eb1f4a",
   "metadata": {},
   "outputs": [],
   "source": [
    "values = [3, 2, 1, 0]\n",
    "\n",
    "for value in values:\n",
    "    print(value)\n"
   ]
  },
  {
   "cell_type": "code",
   "execution_count": null,
   "id": "73cddb18-d3ba-45d7-90ba-eb814fbf379c",
   "metadata": {},
   "outputs": [],
   "source": [
    "guess_me = 7\n",
    "number = 1\n",
    "\n",
    "while True:\n",
    "    if number < guess_me:\n",
    "        print(\"too low\")\n",
    "    elif number == guess_me:\n",
    "        print(\"found it!\")\n",
    "        break  # Exit the loop\n",
    "    else:\n",
    "        print(\"oops\")\n",
    "        break  # Exit the loop\n",
    "    \n",
    "    number += 1\n"
   ]
  },
  {
   "cell_type": "code",
   "execution_count": null,
   "id": "940f5bef-a556-47e7-a1c9-ca0420937794",
   "metadata": {},
   "outputs": [],
   "source": [
    "guess_me = 5\n",
    "\n",
    "for number in range(10):\n",
    "    if number < guess_me:\n",
    "        print(\"too low\")\n",
    "    elif number == guess_me:\n",
    "        print(\"found it!\")\n",
    "        break  # Exit the loop\n",
    "    else:\n",
    "        print(\"oops\")\n",
    "        break  # Exit the loop\n"
   ]
  }
 ],
 "metadata": {
  "kernelspec": {
   "display_name": "Python 3 (ipykernel)",
   "language": "python",
   "name": "python3"
  },
  "language_info": {
   "codemirror_mode": {
    "name": "ipython",
    "version": 3
   },
   "file_extension": ".py",
   "mimetype": "text/x-python",
   "name": "python",
   "nbconvert_exporter": "python",
   "pygments_lexer": "ipython3",
   "version": "3.12.7"
  }
 },
 "nbformat": 4,
 "nbformat_minor": 5
}
